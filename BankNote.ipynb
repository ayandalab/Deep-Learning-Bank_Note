{
 "cells": [
  {
   "cell_type": "code",
   "execution_count": 2,
   "metadata": {
    "id": "_9-6T_PHR3N5"
   },
   "outputs": [],
   "source": [
    "import numpy as np  # for matrix operations\n",
    "import pandas as pd  # for loading CSV Files\n",
    "import matplotlib.pyplot as plt # for Data Visualization"
   ]
  },
  {
   "cell_type": "code",
   "execution_count": 3,
   "metadata": {
    "id": "Qr5QRJX5SMNR"
   },
   "outputs": [],
   "source": [
    "data = pd.read_csv(\"https://raw.githubusercontent.com/dphi-official/Datasets/master/bank_note_data/training_set_label.csv\" )"
   ]
  },
  {
   "cell_type": "code",
   "execution_count": 4,
   "metadata": {
    "colab": {
     "base_uri": "https://localhost:8080/",
     "height": 202
    },
    "id": "TB9JPpq9SN7l",
    "outputId": "0f364ce3-2533-4890-f0e2-ee97581852a9"
   },
   "outputs": [
    {
     "data": {
      "text/html": [
       "<div>\n",
       "<style scoped>\n",
       "    .dataframe tbody tr th:only-of-type {\n",
       "        vertical-align: middle;\n",
       "    }\n",
       "\n",
       "    .dataframe tbody tr th {\n",
       "        vertical-align: top;\n",
       "    }\n",
       "\n",
       "    .dataframe thead th {\n",
       "        text-align: right;\n",
       "    }\n",
       "</style>\n",
       "<table border=\"1\" class=\"dataframe\">\n",
       "  <thead>\n",
       "    <tr style=\"text-align: right;\">\n",
       "      <th></th>\n",
       "      <th>VWTI</th>\n",
       "      <th>SWTI</th>\n",
       "      <th>CWTI</th>\n",
       "      <th>EI</th>\n",
       "      <th>Class</th>\n",
       "    </tr>\n",
       "  </thead>\n",
       "  <tbody>\n",
       "    <tr>\n",
       "      <th>0</th>\n",
       "      <td>2.2634</td>\n",
       "      <td>-4.4862</td>\n",
       "      <td>3.6558</td>\n",
       "      <td>-0.612510</td>\n",
       "      <td>0</td>\n",
       "    </tr>\n",
       "    <tr>\n",
       "      <th>1</th>\n",
       "      <td>3.2718</td>\n",
       "      <td>1.7837</td>\n",
       "      <td>2.1161</td>\n",
       "      <td>0.613340</td>\n",
       "      <td>0</td>\n",
       "    </tr>\n",
       "    <tr>\n",
       "      <th>2</th>\n",
       "      <td>-3.9411</td>\n",
       "      <td>-12.8792</td>\n",
       "      <td>13.0597</td>\n",
       "      <td>-3.312500</td>\n",
       "      <td>1</td>\n",
       "    </tr>\n",
       "    <tr>\n",
       "      <th>3</th>\n",
       "      <td>0.5195</td>\n",
       "      <td>-3.2633</td>\n",
       "      <td>3.0895</td>\n",
       "      <td>-0.984900</td>\n",
       "      <td>0</td>\n",
       "    </tr>\n",
       "    <tr>\n",
       "      <th>4</th>\n",
       "      <td>2.5698</td>\n",
       "      <td>-4.4076</td>\n",
       "      <td>5.9856</td>\n",
       "      <td>0.078002</td>\n",
       "      <td>0</td>\n",
       "    </tr>\n",
       "  </tbody>\n",
       "</table>\n",
       "</div>"
      ],
      "text/plain": [
       "     VWTI     SWTI     CWTI        EI  Class\n",
       "0  2.2634  -4.4862   3.6558 -0.612510      0\n",
       "1  3.2718   1.7837   2.1161  0.613340      0\n",
       "2 -3.9411 -12.8792  13.0597 -3.312500      1\n",
       "3  0.5195  -3.2633   3.0895 -0.984900      0\n",
       "4  2.5698  -4.4076   5.9856  0.078002      0"
      ]
     },
     "execution_count": 4,
     "metadata": {
      "tags": []
     },
     "output_type": "execute_result"
    }
   ],
   "source": [
    "data.head()"
   ]
  },
  {
   "cell_type": "code",
   "execution_count": 6,
   "metadata": {
    "colab": {
     "base_uri": "https://localhost:8080/"
    },
    "id": "_7FFtaYBSqF6",
    "outputId": "21d92eae-8d7f-406b-bdba-c57b05514389"
   },
   "outputs": [
    {
     "data": {
      "text/plain": [
       "(1096, 5)"
      ]
     },
     "execution_count": 6,
     "metadata": {
      "tags": []
     },
     "output_type": "execute_result"
    }
   ],
   "source": [
    "data.shape"
   ]
  },
  {
   "cell_type": "code",
   "execution_count": 7,
   "metadata": {
    "id": "SzfGpkFiSsOm"
   },
   "outputs": [],
   "source": [
    "X = data.drop('Class', axis = 1)"
   ]
  },
  {
   "cell_type": "code",
   "execution_count": 8,
   "metadata": {
    "id": "5uq-p-ZAS771"
   },
   "outputs": [],
   "source": [
    "y = data['Class']"
   ]
  },
  {
   "cell_type": "code",
   "execution_count": 9,
   "metadata": {
    "id": "CHwWqzHFTGSx"
   },
   "outputs": [],
   "source": [
    "from sklearn.model_selection import train_test_split\n",
    "X_train, X_test, y_train, y_test = train_test_split(X, y, test_size=0.2, random_state=42)"
   ]
  },
  {
   "cell_type": "code",
   "execution_count": 10,
   "metadata": {
    "colab": {
     "base_uri": "https://localhost:8080/"
    },
    "id": "WZ9qFRdITgWa",
    "outputId": "5a037be2-a35e-400c-9eb8-68827141f8da"
   },
   "outputs": [
    {
     "data": {
      "text/plain": [
       "4"
      ]
     },
     "execution_count": 10,
     "metadata": {
      "tags": []
     },
     "output_type": "execute_result"
    }
   ],
   "source": [
    "# find the number of input features\n",
    "X_train.shape[1]"
   ]
  },
  {
   "cell_type": "code",
   "execution_count": 11,
   "metadata": {
    "id": "rs8mHvAWTm1M"
   },
   "outputs": [],
   "source": [
    "# Imports\n",
    "import tensorflow as tf  # Importing the TensorFlow Library\n",
    "from tensorflow import keras  # Import Keras from TensorFlow\n",
    "\n",
    "from tensorflow.keras import Sequential \n",
    "from tensorflow.keras import layers\n",
    "from tensorflow.keras.layers import Dense"
   ]
  },
  {
   "cell_type": "code",
   "execution_count": 12,
   "metadata": {
    "id": "KFSzgFWgTxBq"
   },
   "outputs": [],
   "source": [
    "# Building the model\n",
    "model = Sequential()\n",
    "model.add(Dense(32, activation='relu', input_shape=(X_train.shape[1],)))   \n",
    "model.add(Dense(16, activation='relu'))\n",
    "model.add(Dense(8, activation='relu'))\n",
    "model.add(Dense(1, activation='sigmoid'))"
   ]
  },
  {
   "cell_type": "code",
   "execution_count": 13,
   "metadata": {
    "id": "14mv9FGhUOlh"
   },
   "outputs": [],
   "source": [
    "# Compiling the model\n",
    "from tensorflow.keras.optimizers import RMSprop\n",
    "optimizer = RMSprop(0.001)  # Here, we have set our learning rate as 0.001\n",
    "model.compile(loss='binary_crossentropy', optimizer= optimizer , metrics=['accuracy'])"
   ]
  },
  {
   "cell_type": "code",
   "execution_count": 14,
   "metadata": {
    "colab": {
     "base_uri": "https://localhost:8080/"
    },
    "id": "TLYk2ObBUUvW",
    "outputId": "8864a640-f579-420f-cf6c-e1c7a8163acb"
   },
   "outputs": [
    {
     "name": "stdout",
     "output_type": "stream",
     "text": [
      "Model: \"sequential\"\n",
      "_________________________________________________________________\n",
      "Layer (type)                 Output Shape              Param #   \n",
      "=================================================================\n",
      "dense (Dense)                (None, 32)                160       \n",
      "_________________________________________________________________\n",
      "dense_1 (Dense)              (None, 16)                528       \n",
      "_________________________________________________________________\n",
      "dense_2 (Dense)              (None, 8)                 136       \n",
      "_________________________________________________________________\n",
      "dense_3 (Dense)              (None, 1)                 9         \n",
      "=================================================================\n",
      "Total params: 833\n",
      "Trainable params: 833\n",
      "Non-trainable params: 0\n",
      "_________________________________________________________________\n"
     ]
    }
   ],
   "source": [
    "# printing the summary of the model\n",
    "model.summary()"
   ]
  },
  {
   "cell_type": "code",
   "execution_count": 15,
   "metadata": {
    "colab": {
     "base_uri": "https://localhost:8080/",
     "height": 466
    },
    "id": "vk6xzMaqUZwr",
    "outputId": "ff344947-3bb7-4db3-ee9c-8e0d50605e91"
   },
   "outputs": [
    {
     "data": {
      "image/png": "[encoded data removed]",
      "text/plain": [
       "<IPython.core.display.Image object>"
      ]
     },
     "execution_count": 15,
     "metadata": {
      "tags": []
     },
     "output_type": "execute_result"
    }
   ],
   "source": [
    "# plotting the model\n",
    "from tensorflow.keras.utils import plot_model\n",
    "plot_model(model)"
   ]
  },
  {
   "cell_type": "code",
   "execution_count": 16,
   "metadata": {
    "colab": {
     "base_uri": "https://localhost:8080/"
    },
    "id": "JhmnvYYnUp13",
    "outputId": "0e2cb3c7-2a5f-425e-a132-488ad460a89f"
   },
   "outputs": [
    {
     "name": "stdout",
     "output_type": "stream",
     "text": [
      "Epoch 1/200\n",
      "70/70 [==============================] - 1s 6ms/step - loss: 0.5198 - accuracy: 0.8224 - val_loss: 0.2199 - val_accuracy: 0.9830\n",
      "Epoch 2/200\n",
      "70/70 [==============================] - 0s 2ms/step - loss: 0.1629 - accuracy: 0.9782 - val_loss: 0.0597 - val_accuracy: 0.9886\n",
      "Epoch 3/200\n",
      "70/70 [==============================] - 0s 2ms/step - loss: 0.0455 - accuracy: 0.9974 - val_loss: 0.0234 - val_accuracy: 0.9943\n",
      "Epoch 4/200\n",
      "70/70 [==============================] - 0s 2ms/step - loss: 0.0267 - accuracy: 0.9917 - val_loss: 0.0109 - val_accuracy: 1.0000\n",
      "Epoch 5/200\n",
      "70/70 [==============================] - 0s 2ms/step - loss: 0.0092 - accuracy: 1.0000 - val_loss: 0.0059 - val_accuracy: 1.0000\n",
      "Epoch 6/200\n",
      "70/70 [==============================] - 0s 2ms/step - loss: 0.0059 - accuracy: 1.0000 - val_loss: 0.0032 - val_accuracy: 1.0000\n",
      "Epoch 7/200\n",
      "70/70 [==============================] - 0s 2ms/step - loss: 0.0021 - accuracy: 1.0000 - val_loss: 0.0015 - val_accuracy: 1.0000\n",
      "Epoch 8/200\n",
      "70/70 [==============================] - 0s 2ms/step - loss: 9.8827e-04 - accuracy: 1.0000 - val_loss: 8.8209e-04 - val_accuracy: 1.0000\n",
      "Epoch 9/200\n",
      "70/70 [==============================] - 0s 2ms/step - loss: 7.3638e-04 - accuracy: 1.0000 - val_loss: 4.8817e-04 - val_accuracy: 1.0000\n",
      "Epoch 10/200\n",
      "70/70 [==============================] - 0s 2ms/step - loss: 4.7764e-04 - accuracy: 1.0000 - val_loss: 2.6724e-04 - val_accuracy: 1.0000\n",
      "Epoch 11/200\n",
      "70/70 [==============================] - 0s 2ms/step - loss: 2.4026e-04 - accuracy: 1.0000 - val_loss: 1.7744e-04 - val_accuracy: 1.0000\n",
      "Epoch 12/200\n",
      "70/70 [==============================] - 0s 2ms/step - loss: 1.1935e-04 - accuracy: 1.0000 - val_loss: 9.9544e-05 - val_accuracy: 1.0000\n",
      "Epoch 13/200\n",
      "70/70 [==============================] - 0s 2ms/step - loss: 9.7621e-05 - accuracy: 1.0000 - val_loss: 5.2954e-05 - val_accuracy: 1.0000\n",
      "Epoch 14/200\n",
      "70/70 [==============================] - 0s 2ms/step - loss: 3.2312e-05 - accuracy: 1.0000 - val_loss: 3.1963e-05 - val_accuracy: 1.0000\n",
      "Epoch 15/200\n",
      "70/70 [==============================] - 0s 2ms/step - loss: 2.0416e-05 - accuracy: 1.0000 - val_loss: 2.6329e-05 - val_accuracy: 1.0000\n",
      "Epoch 16/200\n",
      "70/70 [==============================] - 0s 2ms/step - loss: 4.5904e-05 - accuracy: 1.0000 - val_loss: 1.4723e-05 - val_accuracy: 1.0000\n",
      "Epoch 17/200\n",
      "70/70 [==============================] - 0s 2ms/step - loss: 1.9869e-05 - accuracy: 1.0000 - val_loss: 5.9561e-06 - val_accuracy: 1.0000\n",
      "Epoch 18/200\n",
      "70/70 [==============================] - 0s 2ms/step - loss: 2.4277e-05 - accuracy: 1.0000 - val_loss: 3.2083e-06 - val_accuracy: 1.0000\n",
      "Epoch 19/200\n",
      "70/70 [==============================] - 0s 2ms/step - loss: 1.4243e-05 - accuracy: 1.0000 - val_loss: 1.1137e-06 - val_accuracy: 1.0000\n",
      "Epoch 20/200\n",
      "70/70 [==============================] - 0s 2ms/step - loss: 3.0846e-06 - accuracy: 1.0000 - val_loss: 8.9968e-07 - val_accuracy: 1.0000\n",
      "Epoch 21/200\n",
      "70/70 [==============================] - 0s 2ms/step - loss: 2.7833e-06 - accuracy: 1.0000 - val_loss: 6.1351e-07 - val_accuracy: 1.0000\n",
      "Epoch 22/200\n",
      "70/70 [==============================] - 0s 2ms/step - loss: 2.9322e-06 - accuracy: 1.0000 - val_loss: 3.4839e-07 - val_accuracy: 1.0000\n",
      "Epoch 23/200\n",
      "70/70 [==============================] - 0s 2ms/step - loss: 1.0828e-06 - accuracy: 1.0000 - val_loss: 2.0946e-07 - val_accuracy: 1.0000\n",
      "Epoch 24/200\n",
      "70/70 [==============================] - 0s 2ms/step - loss: 1.4484e-06 - accuracy: 1.0000 - val_loss: 1.2497e-07 - val_accuracy: 1.0000\n",
      "Epoch 25/200\n",
      "70/70 [==============================] - 0s 2ms/step - loss: 1.2831e-07 - accuracy: 1.0000 - val_loss: 5.8363e-08 - val_accuracy: 1.0000\n",
      "Epoch 26/200\n",
      "70/70 [==============================] - 0s 2ms/step - loss: 7.5040e-08 - accuracy: 1.0000 - val_loss: 3.4431e-08 - val_accuracy: 1.0000\n",
      "Epoch 27/200\n",
      "70/70 [==============================] - 0s 2ms/step - loss: 7.1763e-08 - accuracy: 1.0000 - val_loss: 1.9484e-08 - val_accuracy: 1.0000\n",
      "Epoch 28/200\n",
      "70/70 [==============================] - 0s 2ms/step - loss: 1.1088e-07 - accuracy: 1.0000 - val_loss: 1.6558e-08 - val_accuracy: 1.0000\n",
      "Epoch 29/200\n",
      "70/70 [==============================] - 0s 2ms/step - loss: 1.9329e-08 - accuracy: 1.0000 - val_loss: 1.2112e-08 - val_accuracy: 1.0000\n",
      "Epoch 30/200\n",
      "70/70 [==============================] - 0s 2ms/step - loss: 2.3370e-08 - accuracy: 1.0000 - val_loss: 6.5751e-09 - val_accuracy: 1.0000\n",
      "Epoch 31/200\n",
      "70/70 [==============================] - 0s 2ms/step - loss: 6.1896e-08 - accuracy: 1.0000 - val_loss: 4.8700e-09 - val_accuracy: 1.0000\n",
      "Epoch 32/200\n",
      "70/70 [==============================] - 0s 2ms/step - loss: 1.3906e-08 - accuracy: 1.0000 - val_loss: 3.2183e-09 - val_accuracy: 1.0000\n",
      "Epoch 33/200\n",
      "70/70 [==============================] - 0s 2ms/step - loss: 9.6230e-09 - accuracy: 1.0000 - val_loss: 2.8192e-09 - val_accuracy: 1.0000\n",
      "Epoch 34/200\n",
      "70/70 [==============================] - 0s 2ms/step - loss: 3.4510e-09 - accuracy: 1.0000 - val_loss: 1.7943e-09 - val_accuracy: 1.0000\n",
      "Epoch 35/200\n",
      "70/70 [==============================] - 0s 2ms/step - loss: 2.1399e-09 - accuracy: 1.0000 - val_loss: 1.4150e-09 - val_accuracy: 1.0000\n",
      "Epoch 36/200\n",
      "70/70 [==============================] - 0s 2ms/step - loss: 3.3053e-09 - accuracy: 1.0000 - val_loss: 1.1276e-09 - val_accuracy: 1.0000\n",
      "Epoch 37/200\n",
      "70/70 [==============================] - 0s 3ms/step - loss: 2.4053e-09 - accuracy: 1.0000 - val_loss: 1.0219e-09 - val_accuracy: 1.0000\n",
      "Epoch 38/200\n",
      "70/70 [==============================] - 0s 2ms/step - loss: 1.6138e-09 - accuracy: 1.0000 - val_loss: 8.1954e-10 - val_accuracy: 1.0000\n",
      "Epoch 39/200\n",
      "70/70 [==============================] - 0s 2ms/step - loss: 2.6182e-09 - accuracy: 1.0000 - val_loss: 6.9066e-10 - val_accuracy: 1.0000\n",
      "Epoch 40/200\n",
      "70/70 [==============================] - 0s 2ms/step - loss: 1.9771e-09 - accuracy: 1.0000 - val_loss: 6.4108e-10 - val_accuracy: 1.0000\n",
      "Epoch 41/200\n",
      "70/70 [==============================] - 0s 2ms/step - loss: 8.3635e-10 - accuracy: 1.0000 - val_loss: 5.3983e-10 - val_accuracy: 1.0000\n",
      "Epoch 42/200\n",
      "70/70 [==============================] - 0s 2ms/step - loss: 7.6580e-10 - accuracy: 1.0000 - val_loss: 4.8052e-10 - val_accuracy: 1.0000\n",
      "Epoch 43/200\n",
      "70/70 [==============================] - 0s 2ms/step - loss: 1.2900e-09 - accuracy: 1.0000 - val_loss: 4.8934e-10 - val_accuracy: 1.0000\n",
      "Epoch 44/200\n",
      "70/70 [==============================] - 0s 2ms/step - loss: 9.7609e-10 - accuracy: 1.0000 - val_loss: 4.1198e-10 - val_accuracy: 1.0000\n",
      "Epoch 45/200\n",
      "70/70 [==============================] - 0s 2ms/step - loss: 5.8103e-10 - accuracy: 1.0000 - val_loss: 3.7494e-10 - val_accuracy: 1.0000\n",
      "Epoch 46/200\n",
      "70/70 [==============================] - 0s 2ms/step - loss: 1.4392e-09 - accuracy: 1.0000 - val_loss: 3.4611e-10 - val_accuracy: 1.0000\n",
      "Epoch 47/200\n",
      "70/70 [==============================] - 0s 2ms/step - loss: 1.2180e-09 - accuracy: 1.0000 - val_loss: 3.1540e-10 - val_accuracy: 1.0000\n",
      "Epoch 48/200\n",
      "70/70 [==============================] - 0s 2ms/step - loss: 4.0088e-10 - accuracy: 1.0000 - val_loss: 3.4761e-10 - val_accuracy: 1.0000\n",
      "Epoch 49/200\n",
      "70/70 [==============================] - 0s 2ms/step - loss: 1.0271e-09 - accuracy: 1.0000 - val_loss: 2.8993e-10 - val_accuracy: 1.0000\n",
      "Epoch 50/200\n",
      "70/70 [==============================] - 0s 2ms/step - loss: 5.3126e-10 - accuracy: 1.0000 - val_loss: 2.6848e-10 - val_accuracy: 1.0000\n",
      "Epoch 51/200\n",
      "70/70 [==============================] - 0s 2ms/step - loss: 6.0583e-10 - accuracy: 1.0000 - val_loss: 2.5238e-10 - val_accuracy: 1.0000\n",
      "Epoch 52/200\n",
      "70/70 [==============================] - 0s 2ms/step - loss: 4.7163e-10 - accuracy: 1.0000 - val_loss: 2.4073e-10 - val_accuracy: 1.0000\n",
      "Epoch 53/200\n",
      "70/70 [==============================] - 0s 2ms/step - loss: 5.4403e-10 - accuracy: 1.0000 - val_loss: 2.2707e-10 - val_accuracy: 1.0000\n",
      "Epoch 54/200\n",
      "70/70 [==============================] - 0s 2ms/step - loss: 8.3774e-10 - accuracy: 1.0000 - val_loss: 2.1325e-10 - val_accuracy: 1.0000\n",
      "Epoch 55/200\n",
      "70/70 [==============================] - 0s 2ms/step - loss: 4.0505e-10 - accuracy: 1.0000 - val_loss: 2.2831e-10 - val_accuracy: 1.0000\n",
      "Epoch 56/200\n",
      "70/70 [==============================] - 0s 2ms/step - loss: 5.5205e-10 - accuracy: 1.0000 - val_loss: 2.0349e-10 - val_accuracy: 1.0000\n",
      "Epoch 57/200\n",
      "70/70 [==============================] - 0s 2ms/step - loss: 3.8203e-10 - accuracy: 1.0000 - val_loss: 1.9118e-10 - val_accuracy: 1.0000\n",
      "Epoch 58/200\n",
      "70/70 [==============================] - 0s 2ms/step - loss: 3.6507e-10 - accuracy: 1.0000 - val_loss: 1.8146e-10 - val_accuracy: 1.0000\n",
      "Epoch 59/200\n",
      "70/70 [==============================] - 0s 2ms/step - loss: 4.5692e-10 - accuracy: 1.0000 - val_loss: 1.7410e-10 - val_accuracy: 1.0000\n",
      "Epoch 60/200\n",
      "70/70 [==============================] - 0s 2ms/step - loss: 5.2344e-10 - accuracy: 1.0000 - val_loss: 1.6672e-10 - val_accuracy: 1.0000\n",
      "Epoch 61/200\n",
      "70/70 [==============================] - 0s 2ms/step - loss: 3.4708e-10 - accuracy: 1.0000 - val_loss: 1.8040e-10 - val_accuracy: 1.0000\n",
      "Epoch 62/200\n",
      "70/70 [==============================] - 0s 2ms/step - loss: 2.2162e-10 - accuracy: 1.0000 - val_loss: 1.6275e-10 - val_accuracy: 1.0000\n",
      "Epoch 63/200\n",
      "70/70 [==============================] - 0s 2ms/step - loss: 3.1832e-10 - accuracy: 1.0000 - val_loss: 1.5153e-10 - val_accuracy: 1.0000\n",
      "Epoch 64/200\n",
      "70/70 [==============================] - 0s 2ms/step - loss: 4.2461e-10 - accuracy: 1.0000 - val_loss: 1.4321e-10 - val_accuracy: 1.0000\n",
      "Epoch 65/200\n",
      "70/70 [==============================] - 0s 2ms/step - loss: 6.7830e-10 - accuracy: 1.0000 - val_loss: 1.3778e-10 - val_accuracy: 1.0000\n",
      "Epoch 66/200\n",
      "70/70 [==============================] - 0s 2ms/step - loss: 1.8769e-10 - accuracy: 1.0000 - val_loss: 1.6645e-10 - val_accuracy: 1.0000\n",
      "Epoch 67/200\n",
      "70/70 [==============================] - 0s 2ms/step - loss: 5.4760e-10 - accuracy: 1.0000 - val_loss: 1.4149e-10 - val_accuracy: 1.0000\n",
      "Epoch 68/200\n",
      "70/70 [==============================] - 0s 2ms/step - loss: 2.9045e-10 - accuracy: 1.0000 - val_loss: 1.3253e-10 - val_accuracy: 1.0000\n",
      "Epoch 69/200\n",
      "70/70 [==============================] - 0s 2ms/step - loss: 3.1434e-10 - accuracy: 1.0000 - val_loss: 1.2684e-10 - val_accuracy: 1.0000\n",
      "Epoch 70/200\n",
      "70/70 [==============================] - 0s 2ms/step - loss: 6.5330e-10 - accuracy: 1.0000 - val_loss: 1.2276e-10 - val_accuracy: 1.0000\n",
      "Epoch 71/200\n",
      "70/70 [==============================] - 0s 2ms/step - loss: 5.3805e-10 - accuracy: 1.0000 - val_loss: 1.1922e-10 - val_accuracy: 1.0000\n",
      "Epoch 72/200\n",
      "70/70 [==============================] - 0s 2ms/step - loss: 7.5543e-10 - accuracy: 1.0000 - val_loss: 1.1619e-10 - val_accuracy: 1.0000\n",
      "Epoch 73/200\n",
      "70/70 [==============================] - 0s 2ms/step - loss: 5.6467e-10 - accuracy: 1.0000 - val_loss: 1.1300e-10 - val_accuracy: 1.0000\n",
      "Epoch 74/200\n",
      "70/70 [==============================] - 0s 2ms/step - loss: 4.7515e-10 - accuracy: 1.0000 - val_loss: 1.3211e-10 - val_accuracy: 1.0000\n",
      "Epoch 75/200\n",
      "70/70 [==============================] - 0s 2ms/step - loss: 2.4462e-10 - accuracy: 1.0000 - val_loss: 1.1699e-10 - val_accuracy: 1.0000\n",
      "Epoch 76/200\n",
      "70/70 [==============================] - 0s 2ms/step - loss: 4.2576e-10 - accuracy: 1.0000 - val_loss: 1.1045e-10 - val_accuracy: 1.0000\n",
      "Epoch 77/200\n",
      "70/70 [==============================] - 0s 2ms/step - loss: 2.3432e-10 - accuracy: 1.0000 - val_loss: 1.0584e-10 - val_accuracy: 1.0000\n",
      "Epoch 78/200\n",
      "70/70 [==============================] - 0s 2ms/step - loss: 3.9287e-10 - accuracy: 1.0000 - val_loss: 1.0214e-10 - val_accuracy: 1.0000\n",
      "Epoch 79/200\n",
      "70/70 [==============================] - 0s 2ms/step - loss: 3.7376e-10 - accuracy: 1.0000 - val_loss: 9.8965e-11 - val_accuracy: 1.0000\n",
      "Epoch 80/200\n",
      "70/70 [==============================] - 0s 2ms/step - loss: 3.3637e-10 - accuracy: 1.0000 - val_loss: 9.7166e-11 - val_accuracy: 1.0000\n",
      "Epoch 81/200\n",
      "70/70 [==============================] - 0s 2ms/step - loss: 5.6767e-10 - accuracy: 1.0000 - val_loss: 9.4269e-11 - val_accuracy: 1.0000\n",
      "Epoch 82/200\n",
      "70/70 [==============================] - 0s 2ms/step - loss: 2.8705e-10 - accuracy: 1.0000 - val_loss: 9.2349e-11 - val_accuracy: 1.0000\n",
      "Epoch 83/200\n",
      "70/70 [==============================] - 0s 2ms/step - loss: 2.6472e-10 - accuracy: 1.0000 - val_loss: 8.9792e-11 - val_accuracy: 1.0000\n",
      "Epoch 84/200\n",
      "70/70 [==============================] - 0s 2ms/step - loss: 2.3911e-10 - accuracy: 1.0000 - val_loss: 8.7636e-11 - val_accuracy: 1.0000\n",
      "Epoch 85/200\n",
      "70/70 [==============================] - 0s 2ms/step - loss: 3.7539e-10 - accuracy: 1.0000 - val_loss: 8.5562e-11 - val_accuracy: 1.0000\n",
      "Epoch 86/200\n",
      "70/70 [==============================] - 0s 2ms/step - loss: 5.0462e-10 - accuracy: 1.0000 - val_loss: 8.3325e-11 - val_accuracy: 1.0000\n",
      "Epoch 87/200\n",
      "70/70 [==============================] - 0s 2ms/step - loss: 2.5600e-10 - accuracy: 1.0000 - val_loss: 8.1913e-11 - val_accuracy: 1.0000\n",
      "Epoch 88/200\n",
      "70/70 [==============================] - 0s 2ms/step - loss: 1.8999e-10 - accuracy: 1.0000 - val_loss: 7.9938e-11 - val_accuracy: 1.0000\n",
      "Epoch 89/200\n",
      "70/70 [==============================] - 0s 3ms/step - loss: 3.5116e-10 - accuracy: 1.0000 - val_loss: 7.4415e-11 - val_accuracy: 1.0000\n",
      "Epoch 90/200\n",
      "70/70 [==============================] - 0s 2ms/step - loss: 2.0215e-10 - accuracy: 1.0000 - val_loss: 7.3330e-11 - val_accuracy: 1.0000\n",
      "Epoch 91/200\n",
      "70/70 [==============================] - 0s 2ms/step - loss: 1.6333e-10 - accuracy: 1.0000 - val_loss: 7.1607e-11 - val_accuracy: 1.0000\n",
      "Epoch 92/200\n",
      "70/70 [==============================] - 0s 2ms/step - loss: 1.6387e-10 - accuracy: 1.0000 - val_loss: 7.0044e-11 - val_accuracy: 1.0000\n",
      "Epoch 93/200\n",
      "70/70 [==============================] - 0s 2ms/step - loss: 2.8153e-10 - accuracy: 1.0000 - val_loss: 6.8314e-11 - val_accuracy: 1.0000\n",
      "Epoch 94/200\n",
      "70/70 [==============================] - 0s 2ms/step - loss: 3.1633e-10 - accuracy: 1.0000 - val_loss: 6.6633e-11 - val_accuracy: 1.0000\n",
      "Epoch 95/200\n",
      "70/70 [==============================] - 0s 2ms/step - loss: 1.8761e-10 - accuracy: 1.0000 - val_loss: 8.7405e-11 - val_accuracy: 1.0000\n",
      "Epoch 96/200\n",
      "70/70 [==============================] - 0s 2ms/step - loss: 1.4594e-10 - accuracy: 1.0000 - val_loss: 7.6842e-11 - val_accuracy: 1.0000\n",
      "Epoch 97/200\n",
      "70/70 [==============================] - 0s 2ms/step - loss: 1.6581e-10 - accuracy: 1.0000 - val_loss: 7.0757e-11 - val_accuracy: 1.0000\n",
      "Epoch 98/200\n",
      "70/70 [==============================] - 0s 2ms/step - loss: 2.9356e-10 - accuracy: 1.0000 - val_loss: 6.6682e-11 - val_accuracy: 1.0000\n",
      "Epoch 99/200\n",
      "70/70 [==============================] - 0s 2ms/step - loss: 1.2277e-10 - accuracy: 1.0000 - val_loss: 6.3944e-11 - val_accuracy: 1.0000\n",
      "Epoch 100/200\n",
      "70/70 [==============================] - 0s 2ms/step - loss: 1.5233e-10 - accuracy: 1.0000 - val_loss: 6.1728e-11 - val_accuracy: 1.0000\n",
      "Epoch 101/200\n",
      "70/70 [==============================] - 0s 2ms/step - loss: 2.4694e-10 - accuracy: 1.0000 - val_loss: 5.9619e-11 - val_accuracy: 1.0000\n",
      "Epoch 102/200\n",
      "70/70 [==============================] - 0s 2ms/step - loss: 1.0855e-10 - accuracy: 1.0000 - val_loss: 5.7944e-11 - val_accuracy: 1.0000\n",
      "Epoch 103/200\n",
      "70/70 [==============================] - 0s 2ms/step - loss: 2.6535e-10 - accuracy: 1.0000 - val_loss: 5.6435e-11 - val_accuracy: 1.0000\n",
      "Epoch 104/200\n",
      "70/70 [==============================] - 0s 2ms/step - loss: 1.6354e-10 - accuracy: 1.0000 - val_loss: 5.5296e-11 - val_accuracy: 1.0000\n",
      "Epoch 105/200\n",
      "70/70 [==============================] - 0s 2ms/step - loss: 1.5501e-10 - accuracy: 1.0000 - val_loss: 5.4265e-11 - val_accuracy: 1.0000\n",
      "Epoch 106/200\n",
      "70/70 [==============================] - 0s 2ms/step - loss: 1.2764e-10 - accuracy: 1.0000 - val_loss: 5.3296e-11 - val_accuracy: 1.0000\n",
      "Epoch 107/200\n",
      "70/70 [==============================] - 0s 2ms/step - loss: 2.1584e-10 - accuracy: 1.0000 - val_loss: 5.2417e-11 - val_accuracy: 1.0000\n",
      "Epoch 108/200\n",
      "70/70 [==============================] - 0s 2ms/step - loss: 2.4722e-10 - accuracy: 1.0000 - val_loss: 5.1841e-11 - val_accuracy: 1.0000\n",
      "Epoch 109/200\n",
      "70/70 [==============================] - 0s 2ms/step - loss: 2.3936e-10 - accuracy: 1.0000 - val_loss: 5.1249e-11 - val_accuracy: 1.0000\n",
      "Epoch 110/200\n",
      "70/70 [==============================] - 0s 2ms/step - loss: 2.8452e-10 - accuracy: 1.0000 - val_loss: 5.0558e-11 - val_accuracy: 1.0000\n",
      "Epoch 111/200\n",
      "70/70 [==============================] - 0s 2ms/step - loss: 2.7549e-10 - accuracy: 1.0000 - val_loss: 6.4602e-11 - val_accuracy: 1.0000\n",
      "Epoch 112/200\n",
      "70/70 [==============================] - 0s 2ms/step - loss: 1.5852e-10 - accuracy: 1.0000 - val_loss: 5.8327e-11 - val_accuracy: 1.0000\n",
      "Epoch 113/200\n",
      "70/70 [==============================] - 0s 2ms/step - loss: 2.2726e-10 - accuracy: 1.0000 - val_loss: 5.4943e-11 - val_accuracy: 1.0000\n",
      "Epoch 114/200\n",
      "70/70 [==============================] - 0s 2ms/step - loss: 1.7815e-10 - accuracy: 1.0000 - val_loss: 5.3102e-11 - val_accuracy: 1.0000\n",
      "Epoch 115/200\n",
      "70/70 [==============================] - 0s 2ms/step - loss: 6.8224e-11 - accuracy: 1.0000 - val_loss: 5.1991e-11 - val_accuracy: 1.0000\n",
      "Epoch 116/200\n",
      "70/70 [==============================] - 0s 2ms/step - loss: 2.0117e-10 - accuracy: 1.0000 - val_loss: 5.1173e-11 - val_accuracy: 1.0000\n",
      "Epoch 117/200\n",
      "70/70 [==============================] - 0s 2ms/step - loss: 8.6829e-11 - accuracy: 1.0000 - val_loss: 5.0513e-11 - val_accuracy: 1.0000\n",
      "Epoch 118/200\n",
      "70/70 [==============================] - 0s 2ms/step - loss: 1.2245e-10 - accuracy: 1.0000 - val_loss: 4.9970e-11 - val_accuracy: 1.0000\n",
      "Epoch 119/200\n",
      "70/70 [==============================] - 0s 2ms/step - loss: 1.3058e-10 - accuracy: 1.0000 - val_loss: 4.9521e-11 - val_accuracy: 1.0000\n",
      "Epoch 120/200\n",
      "70/70 [==============================] - 0s 2ms/step - loss: 2.1117e-10 - accuracy: 1.0000 - val_loss: 4.9134e-11 - val_accuracy: 1.0000\n",
      "Epoch 121/200\n",
      "70/70 [==============================] - 0s 2ms/step - loss: 1.6123e-10 - accuracy: 1.0000 - val_loss: 4.8796e-11 - val_accuracy: 1.0000\n",
      "Epoch 122/200\n",
      "70/70 [==============================] - 0s 2ms/step - loss: 1.3808e-10 - accuracy: 1.0000 - val_loss: 4.8300e-11 - val_accuracy: 1.0000\n",
      "Epoch 123/200\n",
      "70/70 [==============================] - 0s 2ms/step - loss: 2.0442e-10 - accuracy: 1.0000 - val_loss: 4.7871e-11 - val_accuracy: 1.0000\n",
      "Epoch 124/200\n",
      "70/70 [==============================] - 0s 2ms/step - loss: 1.0897e-10 - accuracy: 1.0000 - val_loss: 6.1218e-11 - val_accuracy: 1.0000\n",
      "Epoch 125/200\n",
      "70/70 [==============================] - 0s 2ms/step - loss: 1.5286e-10 - accuracy: 1.0000 - val_loss: 5.5953e-11 - val_accuracy: 1.0000\n",
      "Epoch 126/200\n",
      "70/70 [==============================] - 0s 2ms/step - loss: 7.8118e-11 - accuracy: 1.0000 - val_loss: 5.3148e-11 - val_accuracy: 1.0000\n",
      "Epoch 127/200\n",
      "70/70 [==============================] - 0s 2ms/step - loss: 1.2377e-10 - accuracy: 1.0000 - val_loss: 5.1336e-11 - val_accuracy: 1.0000\n",
      "Epoch 128/200\n",
      "70/70 [==============================] - 0s 2ms/step - loss: 1.3314e-10 - accuracy: 1.0000 - val_loss: 5.0066e-11 - val_accuracy: 1.0000\n",
      "Epoch 129/200\n",
      "70/70 [==============================] - 0s 2ms/step - loss: 1.0278e-10 - accuracy: 1.0000 - val_loss: 4.9207e-11 - val_accuracy: 1.0000\n",
      "Epoch 130/200\n",
      "70/70 [==============================] - 0s 2ms/step - loss: 1.6922e-10 - accuracy: 1.0000 - val_loss: 4.8604e-11 - val_accuracy: 1.0000\n",
      "Epoch 131/200\n",
      "70/70 [==============================] - 0s 2ms/step - loss: 2.7094e-10 - accuracy: 1.0000 - val_loss: 4.8098e-11 - val_accuracy: 1.0000\n",
      "Epoch 132/200\n",
      "70/70 [==============================] - 0s 2ms/step - loss: 1.2539e-10 - accuracy: 1.0000 - val_loss: 4.7665e-11 - val_accuracy: 1.0000\n",
      "Epoch 133/200\n",
      "70/70 [==============================] - 0s 2ms/step - loss: 1.3442e-10 - accuracy: 1.0000 - val_loss: 4.7292e-11 - val_accuracy: 1.0000\n",
      "Epoch 134/200\n",
      "70/70 [==============================] - 0s 3ms/step - loss: 5.3038e-11 - accuracy: 1.0000 - val_loss: 4.6966e-11 - val_accuracy: 1.0000\n",
      "Epoch 135/200\n",
      "70/70 [==============================] - 0s 2ms/step - loss: 2.3277e-10 - accuracy: 1.0000 - val_loss: 4.6680e-11 - val_accuracy: 1.0000\n",
      "Epoch 136/200\n",
      "70/70 [==============================] - 0s 2ms/step - loss: 1.6291e-10 - accuracy: 1.0000 - val_loss: 4.6427e-11 - val_accuracy: 1.0000\n",
      "Epoch 137/200\n",
      "70/70 [==============================] - 0s 2ms/step - loss: 1.5147e-10 - accuracy: 1.0000 - val_loss: 4.5876e-11 - val_accuracy: 1.0000\n",
      "Epoch 138/200\n",
      "70/70 [==============================] - 0s 2ms/step - loss: 2.0188e-10 - accuracy: 1.0000 - val_loss: 4.5546e-11 - val_accuracy: 1.0000\n",
      "Epoch 139/200\n",
      "70/70 [==============================] - 0s 2ms/step - loss: 1.3396e-10 - accuracy: 1.0000 - val_loss: 4.5285e-11 - val_accuracy: 1.0000\n",
      "Epoch 140/200\n",
      "70/70 [==============================] - 0s 2ms/step - loss: 2.3871e-10 - accuracy: 1.0000 - val_loss: 4.5064e-11 - val_accuracy: 1.0000\n",
      "Epoch 141/200\n",
      "70/70 [==============================] - 0s 2ms/step - loss: 2.3965e-10 - accuracy: 1.0000 - val_loss: 5.4974e-11 - val_accuracy: 1.0000\n",
      "Epoch 142/200\n",
      "70/70 [==============================] - 0s 2ms/step - loss: 1.9918e-10 - accuracy: 1.0000 - val_loss: 5.1802e-11 - val_accuracy: 1.0000\n",
      "Epoch 143/200\n",
      "70/70 [==============================] - 0s 2ms/step - loss: 1.6671e-10 - accuracy: 1.0000 - val_loss: 4.9807e-11 - val_accuracy: 1.0000\n",
      "Epoch 144/200\n",
      "70/70 [==============================] - 0s 2ms/step - loss: 1.5893e-10 - accuracy: 1.0000 - val_loss: 4.8432e-11 - val_accuracy: 1.0000\n",
      "Epoch 145/200\n",
      "70/70 [==============================] - 0s 2ms/step - loss: 1.2809e-10 - accuracy: 1.0000 - val_loss: 4.7446e-11 - val_accuracy: 1.0000\n",
      "Epoch 146/200\n",
      "70/70 [==============================] - 0s 2ms/step - loss: 7.0486e-11 - accuracy: 1.0000 - val_loss: 4.6682e-11 - val_accuracy: 1.0000\n",
      "Epoch 147/200\n",
      "70/70 [==============================] - 0s 2ms/step - loss: 1.0725e-10 - accuracy: 1.0000 - val_loss: 4.6191e-11 - val_accuracy: 1.0000\n",
      "Epoch 148/200\n",
      "70/70 [==============================] - 0s 2ms/step - loss: 2.0292e-10 - accuracy: 1.0000 - val_loss: 4.5773e-11 - val_accuracy: 1.0000\n",
      "Epoch 149/200\n",
      "70/70 [==============================] - 0s 2ms/step - loss: 1.5281e-10 - accuracy: 1.0000 - val_loss: 4.5412e-11 - val_accuracy: 1.0000\n",
      "Epoch 150/200\n",
      "70/70 [==============================] - 0s 2ms/step - loss: 1.3760e-10 - accuracy: 1.0000 - val_loss: 4.5097e-11 - val_accuracy: 1.0000\n",
      "Epoch 151/200\n",
      "70/70 [==============================] - 0s 2ms/step - loss: 1.2513e-10 - accuracy: 1.0000 - val_loss: 4.4822e-11 - val_accuracy: 1.0000\n",
      "Epoch 152/200\n",
      "70/70 [==============================] - 0s 2ms/step - loss: 1.3282e-10 - accuracy: 1.0000 - val_loss: 4.4576e-11 - val_accuracy: 1.0000\n",
      "Epoch 153/200\n",
      "70/70 [==============================] - 0s 2ms/step - loss: 1.0697e-10 - accuracy: 1.0000 - val_loss: 4.4358e-11 - val_accuracy: 1.0000\n",
      "Epoch 154/200\n",
      "70/70 [==============================] - 0s 2ms/step - loss: 6.3763e-11 - accuracy: 1.0000 - val_loss: 4.4162e-11 - val_accuracy: 1.0000\n",
      "Epoch 155/200\n",
      "70/70 [==============================] - 0s 2ms/step - loss: 1.6357e-10 - accuracy: 1.0000 - val_loss: 4.3984e-11 - val_accuracy: 1.0000\n",
      "Epoch 156/200\n",
      "70/70 [==============================] - 0s 2ms/step - loss: 2.5626e-10 - accuracy: 1.0000 - val_loss: 4.3824e-11 - val_accuracy: 1.0000\n",
      "Epoch 157/200\n",
      "70/70 [==============================] - 0s 2ms/step - loss: 7.3625e-11 - accuracy: 1.0000 - val_loss: 4.3235e-11 - val_accuracy: 1.0000\n",
      "Epoch 158/200\n",
      "70/70 [==============================] - 0s 2ms/step - loss: 1.7639e-10 - accuracy: 1.0000 - val_loss: 4.3016e-11 - val_accuracy: 1.0000\n",
      "Epoch 159/200\n",
      "70/70 [==============================] - 0s 2ms/step - loss: 1.5403e-10 - accuracy: 1.0000 - val_loss: 4.2849e-11 - val_accuracy: 1.0000\n",
      "Epoch 160/200\n",
      "70/70 [==============================] - 0s 2ms/step - loss: 7.8174e-11 - accuracy: 1.0000 - val_loss: 4.2696e-11 - val_accuracy: 1.0000\n",
      "Epoch 161/200\n",
      "70/70 [==============================] - 0s 2ms/step - loss: 1.4731e-10 - accuracy: 1.0000 - val_loss: 4.2556e-11 - val_accuracy: 1.0000\n",
      "Epoch 162/200\n",
      "70/70 [==============================] - 0s 2ms/step - loss: 1.7892e-10 - accuracy: 1.0000 - val_loss: 5.0887e-11 - val_accuracy: 1.0000\n",
      "Epoch 163/200\n",
      "70/70 [==============================] - 0s 2ms/step - loss: 1.3174e-10 - accuracy: 1.0000 - val_loss: 4.8761e-11 - val_accuracy: 1.0000\n",
      "Epoch 164/200\n",
      "70/70 [==============================] - 0s 2ms/step - loss: 1.7951e-10 - accuracy: 1.0000 - val_loss: 4.7141e-11 - val_accuracy: 1.0000\n",
      "Epoch 165/200\n",
      "70/70 [==============================] - 0s 2ms/step - loss: 2.1777e-10 - accuracy: 1.0000 - val_loss: 4.6006e-11 - val_accuracy: 1.0000\n",
      "Epoch 166/200\n",
      "70/70 [==============================] - 0s 2ms/step - loss: 2.5694e-10 - accuracy: 1.0000 - val_loss: 4.5155e-11 - val_accuracy: 1.0000\n",
      "Epoch 167/200\n",
      "70/70 [==============================] - 0s 2ms/step - loss: 5.4873e-11 - accuracy: 1.0000 - val_loss: 4.4488e-11 - val_accuracy: 1.0000\n",
      "Epoch 168/200\n",
      "70/70 [==============================] - 0s 2ms/step - loss: 1.2834e-10 - accuracy: 1.0000 - val_loss: 4.3951e-11 - val_accuracy: 1.0000\n",
      "Epoch 169/200\n",
      "70/70 [==============================] - 0s 2ms/step - loss: 1.8310e-10 - accuracy: 1.0000 - val_loss: 4.3529e-11 - val_accuracy: 1.0000\n",
      "Epoch 170/200\n",
      "70/70 [==============================] - 0s 2ms/step - loss: 8.5568e-11 - accuracy: 1.0000 - val_loss: 4.3226e-11 - val_accuracy: 1.0000\n",
      "Epoch 171/200\n",
      "70/70 [==============================] - 0s 2ms/step - loss: 1.3646e-10 - accuracy: 1.0000 - val_loss: 4.2960e-11 - val_accuracy: 1.0000\n",
      "Epoch 172/200\n",
      "70/70 [==============================] - 0s 2ms/step - loss: 6.8876e-11 - accuracy: 1.0000 - val_loss: 4.2725e-11 - val_accuracy: 1.0000\n",
      "Epoch 173/200\n",
      "70/70 [==============================] - 0s 2ms/step - loss: 8.8426e-11 - accuracy: 1.0000 - val_loss: 4.2516e-11 - val_accuracy: 1.0000\n",
      "Epoch 174/200\n",
      "70/70 [==============================] - 0s 2ms/step - loss: 1.2702e-10 - accuracy: 1.0000 - val_loss: 4.2328e-11 - val_accuracy: 1.0000\n",
      "Epoch 175/200\n",
      "70/70 [==============================] - 0s 2ms/step - loss: 1.7749e-10 - accuracy: 1.0000 - val_loss: 4.2159e-11 - val_accuracy: 1.0000\n",
      "Epoch 176/200\n",
      "70/70 [==============================] - 0s 2ms/step - loss: 1.5368e-10 - accuracy: 1.0000 - val_loss: 4.2005e-11 - val_accuracy: 1.0000\n",
      "Epoch 177/200\n",
      "70/70 [==============================] - 0s 2ms/step - loss: 2.2660e-10 - accuracy: 1.0000 - val_loss: 4.1866e-11 - val_accuracy: 1.0000\n",
      "Epoch 178/200\n",
      "70/70 [==============================] - 0s 2ms/step - loss: 1.6130e-10 - accuracy: 1.0000 - val_loss: 4.1738e-11 - val_accuracy: 1.0000\n",
      "Epoch 179/200\n",
      "70/70 [==============================] - 0s 2ms/step - loss: 1.7314e-10 - accuracy: 1.0000 - val_loss: 4.1621e-11 - val_accuracy: 1.0000\n",
      "Epoch 180/200\n",
      "70/70 [==============================] - 0s 2ms/step - loss: 9.2714e-11 - accuracy: 1.0000 - val_loss: 4.1514e-11 - val_accuracy: 1.0000\n",
      "Epoch 181/200\n",
      "70/70 [==============================] - 0s 2ms/step - loss: 1.5494e-10 - accuracy: 1.0000 - val_loss: 4.1415e-11 - val_accuracy: 1.0000\n",
      "Epoch 182/200\n",
      "70/70 [==============================] - 0s 2ms/step - loss: 2.2528e-10 - accuracy: 1.0000 - val_loss: 4.1323e-11 - val_accuracy: 1.0000\n",
      "Epoch 183/200\n",
      "70/70 [==============================] - 0s 2ms/step - loss: 1.2882e-10 - accuracy: 1.0000 - val_loss: 4.0665e-11 - val_accuracy: 1.0000\n",
      "Epoch 184/200\n",
      "70/70 [==============================] - 0s 2ms/step - loss: 8.9240e-11 - accuracy: 1.0000 - val_loss: 4.0533e-11 - val_accuracy: 1.0000\n",
      "Epoch 185/200\n",
      "70/70 [==============================] - 0s 2ms/step - loss: 1.3494e-10 - accuracy: 1.0000 - val_loss: 4.0431e-11 - val_accuracy: 1.0000\n",
      "Epoch 186/200\n",
      "70/70 [==============================] - 0s 2ms/step - loss: 1.4873e-10 - accuracy: 1.0000 - val_loss: 4.0336e-11 - val_accuracy: 1.0000\n",
      "Epoch 187/200\n",
      "70/70 [==============================] - 0s 3ms/step - loss: 1.5427e-10 - accuracy: 1.0000 - val_loss: 4.0248e-11 - val_accuracy: 1.0000\n",
      "Epoch 188/200\n",
      "70/70 [==============================] - 0s 2ms/step - loss: 3.2371e-10 - accuracy: 1.0000 - val_loss: 4.0166e-11 - val_accuracy: 1.0000\n",
      "Epoch 189/200\n",
      "70/70 [==============================] - 0s 2ms/step - loss: 1.7012e-10 - accuracy: 1.0000 - val_loss: 4.6830e-11 - val_accuracy: 1.0000\n",
      "Epoch 190/200\n",
      "70/70 [==============================] - 0s 2ms/step - loss: 1.7332e-10 - accuracy: 1.0000 - val_loss: 4.5514e-11 - val_accuracy: 1.0000\n",
      "Epoch 191/200\n",
      "70/70 [==============================] - 0s 2ms/step - loss: 1.1940e-10 - accuracy: 1.0000 - val_loss: 4.4309e-11 - val_accuracy: 1.0000\n",
      "Epoch 192/200\n",
      "70/70 [==============================] - 0s 2ms/step - loss: 1.0578e-10 - accuracy: 1.0000 - val_loss: 4.3418e-11 - val_accuracy: 1.0000\n",
      "Epoch 193/200\n",
      "70/70 [==============================] - 0s 2ms/step - loss: 6.9010e-11 - accuracy: 1.0000 - val_loss: 4.2731e-11 - val_accuracy: 1.0000\n",
      "Epoch 194/200\n",
      "70/70 [==============================] - 0s 2ms/step - loss: 1.3347e-10 - accuracy: 1.0000 - val_loss: 4.2184e-11 - val_accuracy: 1.0000\n",
      "Epoch 195/200\n",
      "70/70 [==============================] - 0s 2ms/step - loss: 5.8074e-11 - accuracy: 1.0000 - val_loss: 4.1738e-11 - val_accuracy: 1.0000\n",
      "Epoch 196/200\n",
      "70/70 [==============================] - 0s 2ms/step - loss: 2.2567e-10 - accuracy: 1.0000 - val_loss: 4.1362e-11 - val_accuracy: 1.0000\n",
      "Epoch 197/200\n",
      "70/70 [==============================] - 0s 2ms/step - loss: 1.0830e-10 - accuracy: 1.0000 - val_loss: 4.1045e-11 - val_accuracy: 1.0000\n",
      "Epoch 198/200\n",
      "70/70 [==============================] - 0s 2ms/step - loss: 1.1247e-10 - accuracy: 1.0000 - val_loss: 4.0813e-11 - val_accuracy: 1.0000\n",
      "Epoch 199/200\n",
      "70/70 [==============================] - 0s 2ms/step - loss: 1.5228e-10 - accuracy: 1.0000 - val_loss: 4.0620e-11 - val_accuracy: 1.0000\n",
      "Epoch 200/200\n",
      "70/70 [==============================] - 0s 2ms/step - loss: 1.8822e-10 - accuracy: 1.0000 - val_loss: 4.0447e-11 - val_accuracy: 1.0000\n"
     ]
    }
   ],
   "source": [
    "history = model.fit(X_train, y_train, validation_split=0.2, epochs=200, batch_size=10, verbose=1)"
   ]
  },
  {
   "cell_type": "code",
   "execution_count": 17,
   "metadata": {
    "colab": {
     "base_uri": "https://localhost:8080/"
    },
    "id": "SksTQMF1UxdL",
    "outputId": "b45edf2a-7169-4cc3-dba4-2a6f56d4615c"
   },
   "outputs": [
    {
     "name": "stdout",
     "output_type": "stream",
     "text": [
      "7/7 [==============================] - 0s 1ms/step - loss: 1.2834e-07 - accuracy: 1.0000\n"
     ]
    },
    {
     "data": {
      "text/plain": [
       "[1.2834092899538518e-07, 1.0]"
      ]
     },
     "execution_count": 17,
     "metadata": {
      "tags": []
     },
     "output_type": "execute_result"
    }
   ],
   "source": [
    "model.evaluate(X_test, y_test)"
   ]
  },
  {
   "cell_type": "code",
   "execution_count": 18,
   "metadata": {
    "colab": {
     "base_uri": "https://localhost:8080/",
     "height": 295
    },
    "id": "x_BvUEdlVLQJ",
    "outputId": "d1bf8341-a730-4243-e12b-d9525009d1a2"
   },
   "outputs": [
    {
     "data": {
      "image/png": "[encoded data removed]",
      "text/plain": [
       "<Figure size 432x288 with 1 Axes>"
      ]
     },
     "metadata": {
      "needs_background": "light",
      "tags": []
     },
     "output_type": "display_data"
    }
   ],
   "source": [
    "\n",
    "plt.plot(history.history['accuracy'])\n",
    "plt.plot(history.history['val_accuracy'])\n",
    "plt.title('Model Accuracy')\n",
    "plt.ylabel('accuracy')\n",
    "plt.xlabel('epoch')\n",
    "plt.legend(['Train', 'Validation'])\n",
    "plt.show()"
   ]
  },
  {
   "cell_type": "code",
   "execution_count": 19,
   "metadata": {
    "colab": {
     "base_uri": "https://localhost:8080/",
     "height": 295
    },
    "id": "VqWrPVAyVoAE",
    "outputId": "a340929b-35cf-4d81-ad42-47ab23707f54"
   },
   "outputs": [
    {
     "data": {
      "image/png": "[encoded data removed]",
      "text/plain": [
       "<Figure size 432x288 with 1 Axes>"
      ]
     },
     "metadata": {
      "needs_background": "light",
      "tags": []
     },
     "output_type": "display_data"
    }
   ],
   "source": [
    "\n",
    "plt.plot(history.history['loss'])\n",
    "plt.plot(history.history['val_loss'])\n",
    "plt.title('Model Loss')\n",
    "plt.ylabel('loss')\n",
    "plt.xlabel('epoch')\n",
    "plt.legend(['Train', 'Validation'])\n",
    "plt.show()"
   ]
  },
  {
   "cell_type": "code",
   "execution_count": 20,
   "metadata": {
    "id": "tPL7r5eJVu-s"
   },
   "outputs": [],
   "source": [
    "test_data = pd.read_csv('https://raw.githubusercontent.com/dphi-official/Datasets/master/bank_note_data/testing_set_label.csv')"
   ]
  },
  {
   "cell_type": "code",
   "execution_count": 21,
   "metadata": {
    "colab": {
     "base_uri": "https://localhost:8080/",
     "height": 202
    },
    "id": "zs78oBnxaC6e",
    "outputId": "2c309345-0f6f-468c-83c0-bcf4736bb6c5"
   },
   "outputs": [
    {
     "data": {
      "text/html": [
       "<div>\n",
       "<style scoped>\n",
       "    .dataframe tbody tr th:only-of-type {\n",
       "        vertical-align: middle;\n",
       "    }\n",
       "\n",
       "    .dataframe tbody tr th {\n",
       "        vertical-align: top;\n",
       "    }\n",
       "\n",
       "    .dataframe thead th {\n",
       "        text-align: right;\n",
       "    }\n",
       "</style>\n",
       "<table border=\"1\" class=\"dataframe\">\n",
       "  <thead>\n",
       "    <tr style=\"text-align: right;\">\n",
       "      <th></th>\n",
       "      <th>VWTI</th>\n",
       "      <th>SWTI</th>\n",
       "      <th>CWTI</th>\n",
       "      <th>EI</th>\n",
       "    </tr>\n",
       "  </thead>\n",
       "  <tbody>\n",
       "    <tr>\n",
       "      <th>0</th>\n",
       "      <td>-0.40804</td>\n",
       "      <td>0.54214</td>\n",
       "      <td>-0.52725</td>\n",
       "      <td>0.65860</td>\n",
       "    </tr>\n",
       "    <tr>\n",
       "      <th>1</th>\n",
       "      <td>-3.71810</td>\n",
       "      <td>-8.50890</td>\n",
       "      <td>12.36300</td>\n",
       "      <td>-0.95518</td>\n",
       "    </tr>\n",
       "    <tr>\n",
       "      <th>2</th>\n",
       "      <td>5.50400</td>\n",
       "      <td>10.36710</td>\n",
       "      <td>-4.41300</td>\n",
       "      <td>-4.02110</td>\n",
       "    </tr>\n",
       "    <tr>\n",
       "      <th>3</th>\n",
       "      <td>1.68490</td>\n",
       "      <td>8.74890</td>\n",
       "      <td>-1.26410</td>\n",
       "      <td>-1.38580</td>\n",
       "    </tr>\n",
       "    <tr>\n",
       "      <th>4</th>\n",
       "      <td>4.74320</td>\n",
       "      <td>2.10860</td>\n",
       "      <td>0.13680</td>\n",
       "      <td>1.65430</td>\n",
       "    </tr>\n",
       "  </tbody>\n",
       "</table>\n",
       "</div>"
      ],
      "text/plain": [
       "      VWTI      SWTI      CWTI       EI\n",
       "0 -0.40804   0.54214  -0.52725  0.65860\n",
       "1 -3.71810  -8.50890  12.36300 -0.95518\n",
       "2  5.50400  10.36710  -4.41300 -4.02110\n",
       "3  1.68490   8.74890  -1.26410 -1.38580\n",
       "4  4.74320   2.10860   0.13680  1.65430"
      ]
     },
     "execution_count": 21,
     "metadata": {
      "tags": []
     },
     "output_type": "execute_result"
    }
   ],
   "source": [
    "test_data.head()"
   ]
  },
  {
   "cell_type": "code",
   "execution_count": 25,
   "metadata": {
    "id": "Ym645LntgOAd"
   },
   "outputs": [],
   "source": [
    "import sklearn.linear_model as sk"
   ]
  },
  {
   "cell_type": "code",
   "execution_count": 26,
   "metadata": {
    "id": "wUthxPORg_88"
   },
   "outputs": [],
   "source": [
    "logreg = sk.LogisticRegressionCV()"
   ]
  },
  {
   "cell_type": "markdown",
   "metadata": {
    "id": "LAlHdqDRhi3C"
   },
   "source": []
  },
  {
   "cell_type": "code",
   "execution_count": 30,
   "metadata": {
    "id": "gtAA1vwahnwK"
   },
   "outputs": [],
   "source": [
    "from sklearn.linear_model import LogisticRegression"
   ]
  },
  {
   "cell_type": "code",
   "execution_count": 31,
   "metadata": {
    "id": "91aNvplFFHJn"
   },
   "outputs": [],
   "source": [
    "logreg = LogisticRegression()"
   ]
  },
  {
   "cell_type": "code",
   "execution_count": 33,
   "metadata": {
    "colab": {
     "base_uri": "https://localhost:8080/"
    },
    "id": "QR7duuxKFT8R",
    "outputId": "192be2b9-88a6-4bd1-e097-379febfc1716"
   },
   "outputs": [
    {
     "data": {
      "text/plain": [
       "LogisticRegression(C=1.0, class_weight=None, dual=False, fit_intercept=True,\n",
       "                   intercept_scaling=1, l1_ratio=None, max_iter=100,\n",
       "                   multi_class='auto', n_jobs=None, penalty='l2',\n",
       "                   random_state=None, solver='lbfgs', tol=0.0001, verbose=0,\n",
       "                   warm_start=False)"
      ]
     },
     "execution_count": 33,
     "metadata": {
      "tags": []
     },
     "output_type": "execute_result"
    }
   ],
   "source": [
    "logreg.fit(X_train, y_train)"
   ]
  },
  {
   "cell_type": "code",
   "execution_count": 34,
   "metadata": {
    "id": "rwju6wVZFezj"
   },
   "outputs": [],
   "source": [
    "y_pred = logreg.predict(X_test)"
   ]
  },
  {
   "cell_type": "code",
   "execution_count": 35,
   "metadata": {
    "id": "UFnohrNSFr2k"
   },
   "outputs": [],
   "source": [
    "from sklearn import metrics"
   ]
  },
  {
   "cell_type": "code",
   "execution_count": 36,
   "metadata": {
    "colab": {
     "base_uri": "https://localhost:8080/"
    },
    "id": "lQ_i-1B2FyTH",
    "outputId": "7d99810b-641b-4a89-d9d8-bba4cd1f3132"
   },
   "outputs": [
    {
     "name": "stdout",
     "output_type": "stream",
     "text": [
      "Accuracy: 0.9818181818181818\n"
     ]
    }
   ],
   "source": [
    "print(\"Accuracy:\", metrics.accuracy_score(y_test, y_pred))"
   ]
  },
  {
   "cell_type": "code",
   "execution_count": null,
   "metadata": {
    "id": "ppqT9X6oGATR"
   },
   "outputs": [],
   "source": []
  }
 ],
 "metadata": {
  "colab": {
   "collapsed_sections": [],
   "name": "BankNote.ipynb",
   "provenance": []
  },
  "kernelspec": {
   "display_name": "Python 3",
   "language": "python",
   "name": "python3"
  },
  "language_info": {
   "codemirror_mode": {
    "name": "ipython",
    "version": 3
   },
   "file_extension": ".py",
   "mimetype": "text/x-python",
   "name": "python",
   "nbconvert_exporter": "python",
   "pygments_lexer": "ipython3",
   "version": "3.7.6"
  }
 },
 "nbformat": 4,
 "nbformat_minor": 1
}
